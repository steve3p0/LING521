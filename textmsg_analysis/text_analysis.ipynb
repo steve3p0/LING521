{
 "cells": [
  {
   "cell_type": "markdown",
   "metadata": {
    "pycharm": {
     "name": "#%% md\n"
    }
   },
   "source": [
    "## LING 521: Applied English Grammar\n",
    "### Text Analysis Script #1 \n",
    "TODO: write up an intro\n",
    "\n",
    "### Part 1. Load Dependencies\n",
    "Import the required packages (install them if you haven't already)"
   ]
  },
  {
   "cell_type": "code",
   "execution_count": 10,
   "metadata": {
    "pycharm": {
     "is_executing": false,
     "name": "#%%\n"
    }
   },
   "outputs": [],
   "source": [
    "import sys\n",
    "import nltk\n",
    "import numpy as np\n",
    "import pandas as pd\n",
    "import matplotlib\n",
    "import matplotlib.pyplot as plt\n",
    "from collections import defaultdict\n",
    "from IPython.display import display, HTML\n",
    "\n",
    "plt.rcdefaults()\n",
    "#%matplotlib inline\n",
    "%matplotlib notebook"
   ]
  },
  {
   "cell_type": "markdown",
   "metadata": {},
   "source": [
    "Display my Python Package Library versions and verify software dependencies loaded:"
   ]
  },
  {
   "cell_type": "code",
   "execution_count": 11,
   "metadata": {
    "pycharm": {
     "is_executing": false,
     "name": "#%%\n"
    }
   },
   "outputs": [
    {
     "name": "stdout",
     "text": [
      "sys.version: 3.7.5 (tags/v3.7.5:5c02a39a0b, Oct 15 2019, 00:11:34) [MSC v.1916 64 bit (AMD64)]\nNLTK: 3.4.5\nNumpy: 1.17.3\nPandas: 0.25.3\nmatplotlib: 3.1.1\n"
     ],
     "output_type": "stream"
    }
   ],
   "source": [
    "print(f\"sys.version: {sys.version}\")\n",
    "print(f\"NLTK: {nltk.__version__}\")\n",
    "print(f\"Numpy: {np.__version__}\")\n",
    "print(f\"Pandas: {pd.__version__}\")\n",
    "print(f\"matplotlib: {matplotlib.__version__}\")\n",
    "\n",
    "#print(f\"Scipy: {sp.__version__}\")\n",
    "#print(f\"nose: {nose.__version__}\")"
   ]
  },
  {
   "cell_type": "markdown",
   "metadata": {},
   "source": [
    "### 2. Load Natural Language Processing Tool Kit (NLTK) Package\n",
    "Load the following Part-of-Speech (POS) Taggers from the Natural Language Toolkit Library:"
   ]
  },
  {
   "cell_type": "code",
   "execution_count": 12,
   "metadata": {
    "pycharm": {
     "is_executing": false,
     "name": "#%%\n"
    }
   },
   "outputs": [
    {
     "name": "stderr",
     "text": [
      "[nltk_data] Downloading package averaged_perceptron_tagger to\n[nltk_data]     C:\\Users\\steve\\AppData\\Roaming\\nltk_data...\n[nltk_data]   Package averaged_perceptron_tagger is already up-to-\n[nltk_data]       date!\n[nltk_data] Downloading package universal_tagset to\n[nltk_data]     C:\\Users\\steve\\AppData\\Roaming\\nltk_data...\n[nltk_data]   Package universal_tagset is already up-to-date!\n[nltk_data] Downloading package tagsets to\n[nltk_data]     C:\\Users\\steve\\AppData\\Roaming\\nltk_data...\n[nltk_data]   Package tagsets is already up-to-date!\n"
     ],
     "output_type": "stream"
    },
    {
     "data": {
      "text/plain": "True"
     },
     "metadata": {},
     "output_type": "execute_result",
     "execution_count": 12
    }
   ],
   "source": [
    "nltk.download('averaged_perceptron_tagger')\n",
    "nltk.download('universal_tagset')\n",
    "nltk.download('tagsets')\n",
    "# Show definition of tags\n",
    "# tagset_upenn = nltk.help.upenn_tagset()"
   ]
  },
  {
   "cell_type": "markdown",
   "source": [
    "<b>NOTE ON FUNCTION WORDS:</b><br>\n",
    "With respect to Function Words, we explored using the [NLTK Stopword corpus](https://www.nltk.org/book/ch02.html#stopwords_index_term)\n",
    "when it was revealed to us that the NLTK's Stopword corpus, despite varying by domain, is basically \n",
    "[a manually currated 'general purpose' list of function words](https://stackoverflow.com/questions/41811790/function-vs-content-words#41813460)\n",
    " freely available to use in our tagger.\n",
    "\n",
    "Ultimately we did not use it.  Instead we simply combined the following POS Tags in the NLTK 'Average Perceptron Tagger' \n",
    "into our own Function Word POS Tag and named it 'FUNCTOR':\n",
    " \n",
    "| NLTK POS Tag | NLTK POS Term  | Longman POS  | Function Word Tag (New) |\n",
    "| :-----------:|:--------------:| :-----------:|:-----------:|\n",
    "| ADP          | Adpositions    | Prepositions | FUNCTOR     |\n",
    "| PRON         | Pronouns       | Pronouns     | FUNCTOR     |\n",
    "| DET          | Determiners    | Determiners  | FUNCTOR     |\n",
    "| CONJ         | Conjunctions   | Coordinators / </br> Subordinators| FUNCTOR     |\n",
    "\n",
    "\n",
    "https://stackoverflow.com/questions/15388831/what-are-all-possible-pos-tags-of-nltk\n",
    "\n",
    "- X Determiners\n",
    "- X Pronouns\n",
    "- Auxiliary Verbs: https://www.wikiwand.com/en/Auxiliary_verb\n",
    "- X Prepositions\n",
    "- Adverbial Particles\n",
    "Noun\n",
    "adverbial particle (plural adverbial particles)\n",
    "\n",
    "(linguistics) The adverbial component of a phrasal verb; a word, typically a short one, which functions as an adverb accompanying and qualifying the verb component of a phrasal verb.\n",
    "In the phrasal verbs 'set up', 'throw away', 'shut down', 'carry out' and 'take over', the words 'up', 'away', 'down', 'out' and 'over' are the adverbial particles.\n",
    "The sentence 'He turns on everyone he meets' has very different meanings depending on whether the word 'on' is parsed as a preposition or as an adverbial particle.\n",
    "\n",
    "X Coordinators\n",
    "X Subordinators\n",
    "\n",
    "- Wh-words\n",
    "- Single-word classes (page 33, section 2.5.2 Single-word classes\n",
    "- Numerals\n",
    "- \n",
    "from nltk.corpus import stopwords\n",
    "nltk.download('stopwords')\n",
    "stops = set(stopwords.words(\"english\"))"
   ],
   "metadata": {
    "collapsed": false
   }
  },
  {
   "cell_type": "markdown",
   "metadata": {},
   "source": [
    "### 3. Load Corpora:\n",
    "\n",
    "##### Insert Words\n",
    "\n",
    "We did not make an exhastive list of insert words.  There are methods to create "
   ]
  },
  {
   "cell_type": "code",
   "execution_count": 13,
   "metadata": {
    "pycharm": {
     "is_executing": false,
     "name": "#%%\n"
    }
   },
   "outputs": [
    {
     "name": "stderr",
     "text": [
      "[nltk_data] Downloading package stopwords to\n[nltk_data]     C:\\Users\\steve\\AppData\\Roaming\\nltk_data...\n[nltk_data]   Package stopwords is already up-to-date!\n"
     ],
     "output_type": "stream"
    }
   ],
   "source": [
    "insert_words = ('yeah', 'Ok', 'ahh', 'yeah', 'bye')\n",
    "insert_words = set(w.lower() for w in insert_words)\n",
    "\n",
    "# Use NLTK Stopwords to detect Function Words\n",
    "from nltk.corpus import stopwords\n",
    "nltk.download('stopwords')\n",
    "stopwords = set(stopwords.words(\"english\"))\n",
    "\n",
    "\n",
    "\n",
    "messages = ['Gym?',\n",
    "            'yeah be there in about a half',\n",
    "            'Ok see you when you get here!',\n",
    "            'Seconds away',\n",
    "            'Meet me between smith and cramer asap',\n",
    "            'I got you and Taylor tix in pit section.',\n",
    "            'Get some milk please',\n",
    "            'Chk email',\n",
    "            'Made it',\n",
    "            'Do u know where u saved that movie on my compute',\n",
    "            'Im meeting some dude from the internet for happy hour ahh!',\n",
    "            'Wed is dinner for renetta call us soon',\n",
    "            'where r u???',\n",
    "            'pinball']"
   ]
  },
  {
   "cell_type": "markdown",
   "metadata": {},
   "source": [
    "### 4. Tag POS in 2007 Text Messages:\n",
    "Iterate thru each text message in our 2007 Text Message Corpus and tag the PART-OF-SPEECH of each word.\n",
    "\n",
    "<b>NOTE:</b> We could have written this code to simply get the counts on the whole corpus,\n",
    "but for this assignment, message level analysis made it easier to confirm with manual counts.\n",
    "\n",
    "This is how the tagset would look like if we simply used the upenn tagset:<br>\n",
    "Counter({'NOUN': 29, 'VERB': 12, 'ADP': 9, 'ADV': 8, 'PRON': 8, '.': 7, 'DET': 4, 'ADJ': 3, 'CONJ': 2})\n",
    "\n",
    "However, in order to satisfy the requirements, we need to modify our tagset as follows:\n",
    "1. Inserts: Check if a word is in our inserts set\n",
    "2. Function Words: Combine ADP, PRON, DET, CONJ into FUNCTOR\n",
    "3. Remove Punctuation"
   ]
  },
  {
   "cell_type": "code",
   "execution_count": 14,
   "metadata": {
    "pycharm": {
     "is_executing": false,
     "name": "#%%\n"
    }
   },
   "outputs": [
    {
     "name": "stdout",
     "text": [
      "\nRaw Message: Gym?\nWords with POS Tags: [('Gym', 'NOUN'), ('?', '.')]\n\nRaw Message: yeah be there in about a half\nWords with POS Tags: [('yeah', 'ADV'), ('be', 'VERB'), ('there', 'ADV'), ('in', 'ADP'), ('about', 'ADP'), ('a', 'DET'), ('half', 'NOUN')]\n\nRaw Message: Ok see you when you get here!\nWords with POS Tags: [('Ok', 'NOUN'), ('see', 'VERB'), ('you', 'PRON'), ('when', 'ADV'), ('you', 'PRON'), ('get', 'VERB'), ('here', 'ADV'), ('!', '.')]\n\nRaw Message: Seconds away\nWords with POS Tags: [('Seconds', 'VERB'), ('away', 'ADV')]\n\nRaw Message: Meet me between smith and cramer asap\nWords with POS Tags: [('Meet', 'VERB'), ('me', 'PRON'), ('between', 'ADP'), ('smith', 'NOUN'), ('and', 'CONJ'), ('cramer', 'NOUN'), ('asap', 'NOUN')]\n\nRaw Message: I got you and Taylor tix in pit section.\nWords with POS Tags: [('I', 'PRON'), ('got', 'VERB'), ('you', 'PRON'), ('and', 'CONJ'), ('Taylor', 'NOUN'), ('tix', 'NOUN'), ('in', 'ADP'), ('pit', 'ADJ'), ('section', 'NOUN'), ('.', '.')]\n\nRaw Message: Get some milk please\nWords with POS Tags: [('Get', 'VERB'), ('some', 'DET'), ('milk', 'NOUN'), ('please', 'NOUN')]\n\nRaw Message: Chk email\nWords with POS Tags: [('Chk', 'NOUN'), ('email', 'NOUN')]\n\nRaw Message: Made it\nWords with POS Tags: [('Made', 'VERB'), ('it', 'PRON')]\n\nRaw Message: Do u know where u saved that movie on my compute\nWords with POS Tags: [('Do', 'VERB'), ('u', 'NOUN'), ('know', 'VERB'), ('where', 'ADV'), ('u', 'ADJ'), ('saved', 'VERB'), ('that', 'ADP'), ('movie', 'NOUN'), ('on', 'ADP'), ('my', 'PRON'), ('compute', 'NOUN')]\n\nRaw Message: Im meeting some dude from the internet for happy hour ahh!\nWords with POS Tags: [('Im', 'NOUN'), ('meeting', 'NOUN'), ('some', 'DET'), ('dude', 'NOUN'), ('from', 'ADP'), ('the', 'DET'), ('internet', 'NOUN'), ('for', 'ADP'), ('happy', 'ADJ'), ('hour', 'NOUN'), ('ahh', 'NOUN'), ('!', '.')]\n\nRaw Message: Wed is dinner for renetta call us soon\nWords with POS Tags: [('Wed', 'NOUN'), ('is', 'VERB'), ('dinner', 'NOUN'), ('for', 'ADP'), ('renetta', 'NOUN'), ('call', 'NOUN'), ('us', 'PRON'), ('soon', 'ADV')]\n\nRaw Message: where r u???\nWords with POS Tags: [('where', 'ADV'), ('r', 'NOUN'), ('u', 'NOUN'), ('?', '.'), ('?', '.'), ('?', '.')]\n\nRaw Message: pinball\nWords with POS Tags: [('pinball', 'NOUN')]\n"
     ],
     "output_type": "stream"
    }
   ],
   "source": [
    "counter_list = []\n",
    "words = defaultdict(list)\n",
    "words_stops = []\n",
    "\n",
    "for msg in messages:\n",
    "    tokens = nltk.word_tokenize(msg)\n",
    "    #tokens = [w for w in tokens if w not in stopwords_fw] \n",
    "    \n",
    "    word_tag_pairs = nltk.pos_tag(tokens, tagset='universal')\n",
    "    print(f\"\\nRaw Message: {msg}\")\n",
    "    print(f\"Words with POS Tags: {word_tag_pairs}\")\n",
    "\n",
    "    # Build a dictionary of words, grouped by POS\n",
    "    for w, tag in word_tag_pairs:\n",
    "        # NOTE: We are just keeping track of stopwords and reporting in addition to the other tags\n",
    "        # words that are tagged as 'STOPS' will also have their regular POS Tag\n",
    "        if w.lower() in stopwords:\n",
    "            words_stops.append(w)\n",
    "        \n",
    "        if w.lower() in insert_words:\n",
    "            words['Inserts'].append(w)\n",
    "        elif tag in ('PRON', 'DET', 'ADP', 'CONJ'):\n",
    "            words['FUNCTOR'].append(w)\n",
    "        elif tag != '.':\n",
    "            words[tag].append(w)\n"
   ]
  },
  {
   "cell_type": "markdown",
   "metadata": {},
   "source": [
    "#### Sum of totals:"
   ]
  },
  {
   "cell_type": "code",
   "execution_count": 15,
   "metadata": {
    "pycharm": {
     "is_executing": false,
     "name": "#%%\n"
    }
   },
   "outputs": [
    {
     "name": "stdout",
     "text": [
      "\nPOS Counts: {'NOUN': 27, 'Inserts': 3, 'VERB': 12, 'ADV': 7, 'FUNCTOR': 23, 'ADJ': 3}\n\nTotal Words: 75\nTotal NLTK Stopwords: 30\n"
     ],
     "output_type": "stream"
    }
   ],
   "source": [
    "counter_pos = {k: len(v) for k,v in words.items()}\n",
    "total_words = sum(counter_pos.values())\n",
    "\n",
    "print(f\"\\nPOS Counts: {counter_pos}\")\n",
    "print(f\"\\nTotal Words: {total_words}\")\n",
    "print(f\"Total NLTK Stopwords: {len(words_stops)}\")"
   ]
  },
  {
   "cell_type": "markdown",
   "source": [
    "#### Summary: Words grouped by POS:"
   ],
   "metadata": {
    "collapsed": false
   }
  },
  {
   "cell_type": "code",
   "execution_count": 16,
   "outputs": [
    {
     "data": {
      "text/plain": "<IPython.core.display.HTML object>",
      "text/html": "<style  type=\"text/css\" >\n    #T_eefabb18_06f3_11ea_9848_70bc106da121 th {\n          text-align: center;\n    }    #T_eefabb18_06f3_11ea_9848_70bc106da121 th {\n          white-space: nowrap;\n    }    #T_eefabb18_06f3_11ea_9848_70bc106da121 td {\n          text-align: left;\n    }    #T_eefabb18_06f3_11ea_9848_70bc106da121row0_col0 {\n            white-space:  nowrap;\n        }    #T_eefabb18_06f3_11ea_9848_70bc106da121row1_col0 {\n            white-space:  nowrap;\n        }    #T_eefabb18_06f3_11ea_9848_70bc106da121row2_col0 {\n            white-space:  nowrap;\n        }    #T_eefabb18_06f3_11ea_9848_70bc106da121row3_col0 {\n            white-space:  nowrap;\n        }    #T_eefabb18_06f3_11ea_9848_70bc106da121row4_col0 {\n            white-space:  nowrap;\n        }    #T_eefabb18_06f3_11ea_9848_70bc106da121row5_col0 {\n            white-space:  nowrap;\n        }    #T_eefabb18_06f3_11ea_9848_70bc106da121row6_col0 {\n            white-space:  nowrap;\n        }</style><table id=\"T_eefabb18_06f3_11ea_9848_70bc106da121\" ><thead>    <tr>        <th class=\"col_heading level0 col0\" >Word Class</th>        <th class=\"col_heading level0 col1\" >Words</th>    </tr></thead><tbody>\n                <tr>\n                                <td id=\"T_eefabb18_06f3_11ea_9848_70bc106da121row0_col0\" class=\"data row0 col0\" >Nouns</td>\n                        <td id=\"T_eefabb18_06f3_11ea_9848_70bc106da121row0_col1\" class=\"data row0 col1\" >Gym, half, smith, cramer, asap, Taylor, tix, section, milk, please, Chk, email, u, movie, compute, Im, meeting, dude, internet, hour, Wed, dinner, renetta, call, r, u, pinball</td>\n            </tr>\n            <tr>\n                                <td id=\"T_eefabb18_06f3_11ea_9848_70bc106da121row1_col0\" class=\"data row1 col0\" >Verbs</td>\n                        <td id=\"T_eefabb18_06f3_11ea_9848_70bc106da121row1_col1\" class=\"data row1 col1\" >be, see, get, Seconds, Meet, got, Get, Made, Do, know, saved, is</td>\n            </tr>\n            <tr>\n                                <td id=\"T_eefabb18_06f3_11ea_9848_70bc106da121row2_col0\" class=\"data row2 col0\" >Adjectives</td>\n                        <td id=\"T_eefabb18_06f3_11ea_9848_70bc106da121row2_col1\" class=\"data row2 col1\" >pit, u, happy</td>\n            </tr>\n            <tr>\n                                <td id=\"T_eefabb18_06f3_11ea_9848_70bc106da121row3_col0\" class=\"data row3 col0\" >Adverbs</td>\n                        <td id=\"T_eefabb18_06f3_11ea_9848_70bc106da121row3_col1\" class=\"data row3 col1\" >there, when, here, away, where, soon, where</td>\n            </tr>\n            <tr>\n                                <td id=\"T_eefabb18_06f3_11ea_9848_70bc106da121row4_col0\" class=\"data row4 col0\" >Function Words</td>\n                        <td id=\"T_eefabb18_06f3_11ea_9848_70bc106da121row4_col1\" class=\"data row4 col1\" >in, about, a, you, you, me, between, and, I, you, and, in, some, it, that, on, my, some, from, the, for, for, us</td>\n            </tr>\n            <tr>\n                                <td id=\"T_eefabb18_06f3_11ea_9848_70bc106da121row5_col0\" class=\"data row5 col0\" >Inserts</td>\n                        <td id=\"T_eefabb18_06f3_11ea_9848_70bc106da121row5_col1\" class=\"data row5 col1\" >yeah, Ok, ahh</td>\n            </tr>\n            <tr>\n                                <td id=\"T_eefabb18_06f3_11ea_9848_70bc106da121row6_col0\" class=\"data row6 col0\" >*Stopwords</td>\n                        <td id=\"T_eefabb18_06f3_11ea_9848_70bc106da121row6_col1\" class=\"data row6 col1\" >be, there, in, about, a, you, when, you, here, me, between, and, I, you, and, in, some, it, Do, where, that, on, my, some, from, the, for, is, for, where</td>\n            </tr>\n    </tbody></table>"
     },
     "metadata": {},
     "output_type": "display_data"
    }
   ],
   "source": [
    "row_labels = ['Nouns', 'Verbs', 'Adjectives', 'Adverbs', 'Function Words', 'Inserts', '*Stopwords']\n",
    "words_by_pos = [ ', '.join(words['NOUN']), ', '.join(words['VERB']), ', '.join(words['ADJ']), ', '.join(words['ADV']), \n",
    "                 ', '.join(words['FUNCTOR']), ', '.join(words['Inserts']), ', '.join(words_stops) ]   \n",
    "data = {'Word Class': row_labels,\n",
    "        'Words': words_by_pos}\n",
    "df = pd.DataFrame(data, columns=['Word Class', 'Words'])\n",
    "\n",
    "# Set table styles\n",
    "styles = [ dict(selector=\"th\", props=[('text-align', 'center')]),\n",
    "           dict(selector=\"th\", props=[('white-space', 'nowrap')]),\n",
    "           dict(selector=\"td\", props=[('text-align', 'left')]) ]\n",
    "styled_df = (df.style\n",
    "             .set_properties(subset=df.columns[0],  **{'white-space':'nowrap'})\n",
    "             .set_table_styles(styles))\n",
    "\n",
    "html = styled_df.hide_index().render()\n",
    "display(HTML(html))\n"
   ],
   "metadata": {
    "collapsed": false,
    "pycharm": {
     "name": "#%%\n",
     "is_executing": false
    }
   }
  },
  {
   "cell_type": "markdown",
   "source": [
    "*NLTK Stopwords are provided for the instructor to evaluate how well it identifies function words.\n",
    "\n",
    "### 5.  Calculate Percentages and Normed Frequencies"
   ],
   "metadata": {
    "collapsed": false
   }
  },
  {
   "cell_type": "code",
   "execution_count": 17,
   "outputs": [
    {
     "data": {
      "text/plain": "<IPython.core.display.HTML object>",
      "text/html": "<style  type=\"text/css\" >\n    #T_ef02a4da_06f3_11ea_92a6_70bc106da121 th {\n          text-align: center;\n    }    #T_ef02a4da_06f3_11ea_92a6_70bc106da121row0_col0 {\n            text-align:  left;\n        }    #T_ef02a4da_06f3_11ea_92a6_70bc106da121row0_col1 {\n            text-align:  right;\n        }    #T_ef02a4da_06f3_11ea_92a6_70bc106da121row0_col2 {\n            text-align:  right;\n        }    #T_ef02a4da_06f3_11ea_92a6_70bc106da121row0_col3 {\n            text-align:  right;\n        }    #T_ef02a4da_06f3_11ea_92a6_70bc106da121row1_col0 {\n            text-align:  left;\n        }    #T_ef02a4da_06f3_11ea_92a6_70bc106da121row1_col1 {\n            text-align:  right;\n        }    #T_ef02a4da_06f3_11ea_92a6_70bc106da121row1_col2 {\n            text-align:  right;\n        }    #T_ef02a4da_06f3_11ea_92a6_70bc106da121row1_col3 {\n            text-align:  right;\n        }    #T_ef02a4da_06f3_11ea_92a6_70bc106da121row2_col0 {\n            text-align:  left;\n        }    #T_ef02a4da_06f3_11ea_92a6_70bc106da121row2_col1 {\n            text-align:  right;\n        }    #T_ef02a4da_06f3_11ea_92a6_70bc106da121row2_col2 {\n            text-align:  right;\n        }    #T_ef02a4da_06f3_11ea_92a6_70bc106da121row2_col3 {\n            text-align:  right;\n        }    #T_ef02a4da_06f3_11ea_92a6_70bc106da121row3_col0 {\n            text-align:  left;\n        }    #T_ef02a4da_06f3_11ea_92a6_70bc106da121row3_col1 {\n            text-align:  right;\n        }    #T_ef02a4da_06f3_11ea_92a6_70bc106da121row3_col2 {\n            text-align:  right;\n        }    #T_ef02a4da_06f3_11ea_92a6_70bc106da121row3_col3 {\n            text-align:  right;\n        }    #T_ef02a4da_06f3_11ea_92a6_70bc106da121row4_col0 {\n            text-align:  left;\n        }    #T_ef02a4da_06f3_11ea_92a6_70bc106da121row4_col1 {\n            text-align:  right;\n        }    #T_ef02a4da_06f3_11ea_92a6_70bc106da121row4_col2 {\n            text-align:  right;\n        }    #T_ef02a4da_06f3_11ea_92a6_70bc106da121row4_col3 {\n            text-align:  right;\n        }    #T_ef02a4da_06f3_11ea_92a6_70bc106da121row5_col0 {\n            text-align:  left;\n        }    #T_ef02a4da_06f3_11ea_92a6_70bc106da121row5_col1 {\n            text-align:  right;\n        }    #T_ef02a4da_06f3_11ea_92a6_70bc106da121row5_col2 {\n            text-align:  right;\n        }    #T_ef02a4da_06f3_11ea_92a6_70bc106da121row5_col3 {\n            text-align:  right;\n        }    #T_ef02a4da_06f3_11ea_92a6_70bc106da121row6_col0 {\n            text-align:  left;\n        }    #T_ef02a4da_06f3_11ea_92a6_70bc106da121row6_col1 {\n            text-align:  right;\n        }    #T_ef02a4da_06f3_11ea_92a6_70bc106da121row6_col2 {\n            text-align:  right;\n        }    #T_ef02a4da_06f3_11ea_92a6_70bc106da121row6_col3 {\n            text-align:  right;\n        }</style><table id=\"T_ef02a4da_06f3_11ea_92a6_70bc106da121\" ><thead>    <tr>        <th class=\"col_heading level0 col0\" >Word Class</th>        <th class=\"col_heading level0 col1\" >Raw Counts</th>        <th class=\"col_heading level0 col2\" >Percentages</th>        <th class=\"col_heading level0 col3\" >Normed per 1000</th>    </tr></thead><tbody>\n                <tr>\n                                <td id=\"T_ef02a4da_06f3_11ea_92a6_70bc106da121row0_col0\" class=\"data row0 col0\" >Nouns</td>\n                        <td id=\"T_ef02a4da_06f3_11ea_92a6_70bc106da121row0_col1\" class=\"data row0 col1\" >27</td>\n                        <td id=\"T_ef02a4da_06f3_11ea_92a6_70bc106da121row0_col2\" class=\"data row0 col2\" >36.0%</td>\n                        <td id=\"T_ef02a4da_06f3_11ea_92a6_70bc106da121row0_col3\" class=\"data row0 col3\" >360.0</td>\n            </tr>\n            <tr>\n                                <td id=\"T_ef02a4da_06f3_11ea_92a6_70bc106da121row1_col0\" class=\"data row1 col0\" >Verbs</td>\n                        <td id=\"T_ef02a4da_06f3_11ea_92a6_70bc106da121row1_col1\" class=\"data row1 col1\" >12</td>\n                        <td id=\"T_ef02a4da_06f3_11ea_92a6_70bc106da121row1_col2\" class=\"data row1 col2\" >16.0%</td>\n                        <td id=\"T_ef02a4da_06f3_11ea_92a6_70bc106da121row1_col3\" class=\"data row1 col3\" >160.0</td>\n            </tr>\n            <tr>\n                                <td id=\"T_ef02a4da_06f3_11ea_92a6_70bc106da121row2_col0\" class=\"data row2 col0\" >Adjectives</td>\n                        <td id=\"T_ef02a4da_06f3_11ea_92a6_70bc106da121row2_col1\" class=\"data row2 col1\" >3</td>\n                        <td id=\"T_ef02a4da_06f3_11ea_92a6_70bc106da121row2_col2\" class=\"data row2 col2\" >4.0%</td>\n                        <td id=\"T_ef02a4da_06f3_11ea_92a6_70bc106da121row2_col3\" class=\"data row2 col3\" >40.0</td>\n            </tr>\n            <tr>\n                                <td id=\"T_ef02a4da_06f3_11ea_92a6_70bc106da121row3_col0\" class=\"data row3 col0\" >Adverbs</td>\n                        <td id=\"T_ef02a4da_06f3_11ea_92a6_70bc106da121row3_col1\" class=\"data row3 col1\" >7</td>\n                        <td id=\"T_ef02a4da_06f3_11ea_92a6_70bc106da121row3_col2\" class=\"data row3 col2\" >9.3%</td>\n                        <td id=\"T_ef02a4da_06f3_11ea_92a6_70bc106da121row3_col3\" class=\"data row3 col3\" >93.3</td>\n            </tr>\n            <tr>\n                                <td id=\"T_ef02a4da_06f3_11ea_92a6_70bc106da121row4_col0\" class=\"data row4 col0\" >Function Words</td>\n                        <td id=\"T_ef02a4da_06f3_11ea_92a6_70bc106da121row4_col1\" class=\"data row4 col1\" >23</td>\n                        <td id=\"T_ef02a4da_06f3_11ea_92a6_70bc106da121row4_col2\" class=\"data row4 col2\" >30.7%</td>\n                        <td id=\"T_ef02a4da_06f3_11ea_92a6_70bc106da121row4_col3\" class=\"data row4 col3\" >306.7</td>\n            </tr>\n            <tr>\n                                <td id=\"T_ef02a4da_06f3_11ea_92a6_70bc106da121row5_col0\" class=\"data row5 col0\" >Inserts</td>\n                        <td id=\"T_ef02a4da_06f3_11ea_92a6_70bc106da121row5_col1\" class=\"data row5 col1\" >3</td>\n                        <td id=\"T_ef02a4da_06f3_11ea_92a6_70bc106da121row5_col2\" class=\"data row5 col2\" >4.0%</td>\n                        <td id=\"T_ef02a4da_06f3_11ea_92a6_70bc106da121row5_col3\" class=\"data row5 col3\" >40.0</td>\n            </tr>\n            <tr>\n                                <td id=\"T_ef02a4da_06f3_11ea_92a6_70bc106da121row6_col0\" class=\"data row6 col0\" >Total</td>\n                        <td id=\"T_ef02a4da_06f3_11ea_92a6_70bc106da121row6_col1\" class=\"data row6 col1\" >75</td>\n                        <td id=\"T_ef02a4da_06f3_11ea_92a6_70bc106da121row6_col2\" class=\"data row6 col2\" >100.0%</td>\n                        <td id=\"T_ef02a4da_06f3_11ea_92a6_70bc106da121row6_col3\" class=\"data row6 col3\" >1,000.0</td>\n            </tr>\n    </tbody></table>"
     },
     "metadata": {},
     "output_type": "display_data"
    }
   ],
   "source": [
    "# Gather Counts\n",
    "raw_counts = counter_pos\n",
    "percentages = {pos: wc / total_words for pos, wc in raw_counts.items()}\n",
    "norm_counts = {pos: wc / total_words * 1000 for pos, wc in raw_counts.items()}\n",
    "\n",
    "row_labels = ['Nouns', 'Verbs', 'Adjectives', 'Adverbs', 'Function Words', 'Inserts']\n",
    "raw_counts_list = [ counter_pos['NOUN'], counter_pos['VERB'], counter_pos['ADJ'], counter_pos['ADV'], \n",
    "                    counter_pos['FUNCTOR'], counter_pos['Inserts'], ]\n",
    "\n",
    "percentages_list = [ percentages['NOUN'], percentages['VERB'], percentages['ADJ'], percentages['ADV'], \n",
    "                     percentages['FUNCTOR'], percentages['Inserts'], ]\n",
    "\n",
    "norm_counts_list = [ norm_counts['NOUN'], norm_counts['VERB'], norm_counts['ADJ'], norm_counts['ADV'], \n",
    "                     norm_counts['FUNCTOR'], norm_counts['Inserts'], ]\n",
    "\n",
    "data = {'Word Class': row_labels,\n",
    "        'Raw Counts': raw_counts_list,\n",
    "        'Percentages':percentages_list,\n",
    "        'Normed per 1000': norm_counts_list }\n",
    "\n",
    "df = pd.DataFrame(data, columns=['Word Class', 'Raw Counts', 'Percentages', 'Normed per 1000'])\n",
    "df.loc[df.index.max()+1]=['Total']+df.sum().tolist()[1:]\n",
    "\n",
    "# Construct a mask of which columns are numeric\n",
    "numeric_col_mask = df.dtypes.apply(lambda d: issubclass(np.dtype(d).type, np.number))\n",
    "# Set table styles\n",
    "styles = [ dict(selector=\"th\", props=[('text-align', 'center')]) ]\n",
    "\n",
    "styled_df = (df.style\n",
    "                # Format the percentage and Normed per 1000 fields\n",
    "                .format({'Percentages': \"{:.1%}\",  'Normed per 1000': \"{:,.1f}\"})\n",
    "                # right-align the numeric columns and set their width\n",
    "                .set_properties(subset=df.columns[numeric_col_mask],  **{'text-align':'right'})\n",
    "                # left-align the non-numeric columns and set their width\n",
    "                .set_properties(subset=df.columns[~numeric_col_mask], **{'text-align':'left'})\n",
    "                # center the header\n",
    "                .set_table_styles(styles) \n",
    "            )\n",
    "\n",
    "html = styled_df.hide_index().render()\n",
    "display(HTML(html))"
   ],
   "metadata": {
    "collapsed": false,
    "pycharm": {
     "name": "#%%\n",
     "is_executing": false
    }
   }
  },
  {
   "cell_type": "markdown",
   "metadata": {},
   "source": [
    "### 5.  Plot Stacked Bar Chart\n",
    "Create a stacked bar graph displaying the raw counts, percentages, and normed frequencies per 1000 words for the lexical classes."
   ]
  },
  {
   "cell_type": "code",
   "execution_count": 18,
   "metadata": {
    "pycharm": {
     "is_executing": false,
     "name": "#%%\n"
    }
   },
   "outputs": [
    {
     "data": {
      "text/plain": "<IPython.core.display.Javascript object>",
      "application/javascript": "/* Put everything inside the global mpl namespace */\nwindow.mpl = {};\n\n\nmpl.get_websocket_type = function() {\n    if (typeof(WebSocket) !== 'undefined') {\n        return WebSocket;\n    } else if (typeof(MozWebSocket) !== 'undefined') {\n        return MozWebSocket;\n    } else {\n        alert('Your browser does not have WebSocket support. ' +\n              'Please try Chrome, Safari or Firefox ≥ 6. ' +\n              'Firefox 4 and 5 are also supported but you ' +\n              'have to enable WebSockets in about:config.');\n    };\n}\n\nmpl.figure = function(figure_id, websocket, ondownload, parent_element) {\n    this.id = figure_id;\n\n    this.ws = websocket;\n\n    this.supports_binary = (this.ws.binaryType != undefined);\n\n    if (!this.supports_binary) {\n        var warnings = document.getElementById(\"mpl-warnings\");\n        if (warnings) {\n            warnings.style.display = 'block';\n            warnings.textContent = (\n                \"This browser does not support binary websocket messages. \" +\n                    \"Performance may be slow.\");\n        }\n    }\n\n    this.imageObj = new Image();\n\n    this.context = undefined;\n    this.message = undefined;\n    this.canvas = undefined;\n    this.rubberband_canvas = undefined;\n    this.rubberband_context = undefined;\n    this.format_dropdown = undefined;\n\n    this.image_mode = 'full';\n\n    this.root = $('<div/>');\n    this._root_extra_style(this.root)\n    this.root.attr('style', 'display: inline-block');\n\n    $(parent_element).append(this.root);\n\n    this._init_header(this);\n    this._init_canvas(this);\n    this._init_toolbar(this);\n\n    var fig = this;\n\n    this.waiting = false;\n\n    this.ws.onopen =  function () {\n            fig.send_message(\"supports_binary\", {value: fig.supports_binary});\n            fig.send_message(\"send_image_mode\", {});\n            if (mpl.ratio != 1) {\n                fig.send_message(\"set_dpi_ratio\", {'dpi_ratio': mpl.ratio});\n            }\n            fig.send_message(\"refresh\", {});\n        }\n\n    this.imageObj.onload = function() {\n            if (fig.image_mode == 'full') {\n                // Full images could contain transparency (where diff images\n                // almost always do), so we need to clear the canvas so that\n                // there is no ghosting.\n                fig.context.clearRect(0, 0, fig.canvas.width, fig.canvas.height);\n            }\n            fig.context.drawImage(fig.imageObj, 0, 0);\n        };\n\n    this.imageObj.onunload = function() {\n        fig.ws.close();\n    }\n\n    this.ws.onmessage = this._make_on_message_function(this);\n\n    this.ondownload = ondownload;\n}\n\nmpl.figure.prototype._init_header = function() {\n    var titlebar = $(\n        '<div class=\"ui-dialog-titlebar ui-widget-header ui-corner-all ' +\n        'ui-helper-clearfix\"/>');\n    var titletext = $(\n        '<div class=\"ui-dialog-title\" style=\"width: 100%; ' +\n        'text-align: center; padding: 3px;\"/>');\n    titlebar.append(titletext)\n    this.root.append(titlebar);\n    this.header = titletext[0];\n}\n\n\n\nmpl.figure.prototype._canvas_extra_style = function(canvas_div) {\n\n}\n\n\nmpl.figure.prototype._root_extra_style = function(canvas_div) {\n\n}\n\nmpl.figure.prototype._init_canvas = function() {\n    var fig = this;\n\n    var canvas_div = $('<div/>');\n\n    canvas_div.attr('style', 'position: relative; clear: both; outline: 0');\n\n    function canvas_keyboard_event(event) {\n        return fig.key_event(event, event['data']);\n    }\n\n    canvas_div.keydown('key_press', canvas_keyboard_event);\n    canvas_div.keyup('key_release', canvas_keyboard_event);\n    this.canvas_div = canvas_div\n    this._canvas_extra_style(canvas_div)\n    this.root.append(canvas_div);\n\n    var canvas = $('<canvas/>');\n    canvas.addClass('mpl-canvas');\n    canvas.attr('style', \"left: 0; top: 0; z-index: 0; outline: 0\")\n\n    this.canvas = canvas[0];\n    this.context = canvas[0].getContext(\"2d\");\n\n    var backingStore = this.context.backingStorePixelRatio ||\n\tthis.context.webkitBackingStorePixelRatio ||\n\tthis.context.mozBackingStorePixelRatio ||\n\tthis.context.msBackingStorePixelRatio ||\n\tthis.context.oBackingStorePixelRatio ||\n\tthis.context.backingStorePixelRatio || 1;\n\n    mpl.ratio = (window.devicePixelRatio || 1) / backingStore;\n\n    var rubberband = $('<canvas/>');\n    rubberband.attr('style', \"position: absolute; left: 0; top: 0; z-index: 1;\")\n\n    var pass_mouse_events = true;\n\n    canvas_div.resizable({\n        start: function(event, ui) {\n            pass_mouse_events = false;\n        },\n        resize: function(event, ui) {\n            fig.request_resize(ui.size.width, ui.size.height);\n        },\n        stop: function(event, ui) {\n            pass_mouse_events = true;\n            fig.request_resize(ui.size.width, ui.size.height);\n        },\n    });\n\n    function mouse_event_fn(event) {\n        if (pass_mouse_events)\n            return fig.mouse_event(event, event['data']);\n    }\n\n    rubberband.mousedown('button_press', mouse_event_fn);\n    rubberband.mouseup('button_release', mouse_event_fn);\n    // Throttle sequential mouse events to 1 every 20ms.\n    rubberband.mousemove('motion_notify', mouse_event_fn);\n\n    rubberband.mouseenter('figure_enter', mouse_event_fn);\n    rubberband.mouseleave('figure_leave', mouse_event_fn);\n\n    canvas_div.on(\"wheel\", function (event) {\n        event = event.originalEvent;\n        event['data'] = 'scroll'\n        if (event.deltaY < 0) {\n            event.step = 1;\n        } else {\n            event.step = -1;\n        }\n        mouse_event_fn(event);\n    });\n\n    canvas_div.append(canvas);\n    canvas_div.append(rubberband);\n\n    this.rubberband = rubberband;\n    this.rubberband_canvas = rubberband[0];\n    this.rubberband_context = rubberband[0].getContext(\"2d\");\n    this.rubberband_context.strokeStyle = \"#000000\";\n\n    this._resize_canvas = function(width, height) {\n        // Keep the size of the canvas, canvas container, and rubber band\n        // canvas in synch.\n        canvas_div.css('width', width)\n        canvas_div.css('height', height)\n\n        canvas.attr('width', width * mpl.ratio);\n        canvas.attr('height', height * mpl.ratio);\n        canvas.attr('style', 'width: ' + width + 'px; height: ' + height + 'px;');\n\n        rubberband.attr('width', width);\n        rubberband.attr('height', height);\n    }\n\n    // Set the figure to an initial 600x600px, this will subsequently be updated\n    // upon first draw.\n    this._resize_canvas(600, 600);\n\n    // Disable right mouse context menu.\n    $(this.rubberband_canvas).bind(\"contextmenu\",function(e){\n        return false;\n    });\n\n    function set_focus () {\n        canvas.focus();\n        canvas_div.focus();\n    }\n\n    window.setTimeout(set_focus, 100);\n}\n\nmpl.figure.prototype._init_toolbar = function() {\n    var fig = this;\n\n    var nav_element = $('<div/>');\n    nav_element.attr('style', 'width: 100%');\n    this.root.append(nav_element);\n\n    // Define a callback function for later on.\n    function toolbar_event(event) {\n        return fig.toolbar_button_onclick(event['data']);\n    }\n    function toolbar_mouse_event(event) {\n        return fig.toolbar_button_onmouseover(event['data']);\n    }\n\n    for(var toolbar_ind in mpl.toolbar_items) {\n        var name = mpl.toolbar_items[toolbar_ind][0];\n        var tooltip = mpl.toolbar_items[toolbar_ind][1];\n        var image = mpl.toolbar_items[toolbar_ind][2];\n        var method_name = mpl.toolbar_items[toolbar_ind][3];\n\n        if (!name) {\n            // put a spacer in here.\n            continue;\n        }\n        var button = $('<button/>');\n        button.addClass('ui-button ui-widget ui-state-default ui-corner-all ' +\n                        'ui-button-icon-only');\n        button.attr('role', 'button');\n        button.attr('aria-disabled', 'false');\n        button.click(method_name, toolbar_event);\n        button.mouseover(tooltip, toolbar_mouse_event);\n\n        var icon_img = $('<span/>');\n        icon_img.addClass('ui-button-icon-primary ui-icon');\n        icon_img.addClass(image);\n        icon_img.addClass('ui-corner-all');\n\n        var tooltip_span = $('<span/>');\n        tooltip_span.addClass('ui-button-text');\n        tooltip_span.html(tooltip);\n\n        button.append(icon_img);\n        button.append(tooltip_span);\n\n        nav_element.append(button);\n    }\n\n    var fmt_picker_span = $('<span/>');\n\n    var fmt_picker = $('<select/>');\n    fmt_picker.addClass('mpl-toolbar-option ui-widget ui-widget-content');\n    fmt_picker_span.append(fmt_picker);\n    nav_element.append(fmt_picker_span);\n    this.format_dropdown = fmt_picker[0];\n\n    for (var ind in mpl.extensions) {\n        var fmt = mpl.extensions[ind];\n        var option = $(\n            '<option/>', {selected: fmt === mpl.default_extension}).html(fmt);\n        fmt_picker.append(option);\n    }\n\n    // Add hover states to the ui-buttons\n    $( \".ui-button\" ).hover(\n        function() { $(this).addClass(\"ui-state-hover\");},\n        function() { $(this).removeClass(\"ui-state-hover\");}\n    );\n\n    var status_bar = $('<span class=\"mpl-message\"/>');\n    nav_element.append(status_bar);\n    this.message = status_bar[0];\n}\n\nmpl.figure.prototype.request_resize = function(x_pixels, y_pixels) {\n    // Request matplotlib to resize the figure. Matplotlib will then trigger a resize in the client,\n    // which will in turn request a refresh of the image.\n    this.send_message('resize', {'width': x_pixels, 'height': y_pixels});\n}\n\nmpl.figure.prototype.send_message = function(type, properties) {\n    properties['type'] = type;\n    properties['figure_id'] = this.id;\n    this.ws.send(JSON.stringify(properties));\n}\n\nmpl.figure.prototype.send_draw_message = function() {\n    if (!this.waiting) {\n        this.waiting = true;\n        this.ws.send(JSON.stringify({type: \"draw\", figure_id: this.id}));\n    }\n}\n\n\nmpl.figure.prototype.handle_save = function(fig, msg) {\n    var format_dropdown = fig.format_dropdown;\n    var format = format_dropdown.options[format_dropdown.selectedIndex].value;\n    fig.ondownload(fig, format);\n}\n\n\nmpl.figure.prototype.handle_resize = function(fig, msg) {\n    var size = msg['size'];\n    if (size[0] != fig.canvas.width || size[1] != fig.canvas.height) {\n        fig._resize_canvas(size[0], size[1]);\n        fig.send_message(\"refresh\", {});\n    };\n}\n\nmpl.figure.prototype.handle_rubberband = function(fig, msg) {\n    var x0 = msg['x0'] / mpl.ratio;\n    var y0 = (fig.canvas.height - msg['y0']) / mpl.ratio;\n    var x1 = msg['x1'] / mpl.ratio;\n    var y1 = (fig.canvas.height - msg['y1']) / mpl.ratio;\n    x0 = Math.floor(x0) + 0.5;\n    y0 = Math.floor(y0) + 0.5;\n    x1 = Math.floor(x1) + 0.5;\n    y1 = Math.floor(y1) + 0.5;\n    var min_x = Math.min(x0, x1);\n    var min_y = Math.min(y0, y1);\n    var width = Math.abs(x1 - x0);\n    var height = Math.abs(y1 - y0);\n\n    fig.rubberband_context.clearRect(\n        0, 0, fig.canvas.width / mpl.ratio, fig.canvas.height / mpl.ratio);\n\n    fig.rubberband_context.strokeRect(min_x, min_y, width, height);\n}\n\nmpl.figure.prototype.handle_figure_label = function(fig, msg) {\n    // Updates the figure title.\n    fig.header.textContent = msg['label'];\n}\n\nmpl.figure.prototype.handle_cursor = function(fig, msg) {\n    var cursor = msg['cursor'];\n    switch(cursor)\n    {\n    case 0:\n        cursor = 'pointer';\n        break;\n    case 1:\n        cursor = 'default';\n        break;\n    case 2:\n        cursor = 'crosshair';\n        break;\n    case 3:\n        cursor = 'move';\n        break;\n    }\n    fig.rubberband_canvas.style.cursor = cursor;\n}\n\nmpl.figure.prototype.handle_message = function(fig, msg) {\n    fig.message.textContent = msg['message'];\n}\n\nmpl.figure.prototype.handle_draw = function(fig, msg) {\n    // Request the server to send over a new figure.\n    fig.send_draw_message();\n}\n\nmpl.figure.prototype.handle_image_mode = function(fig, msg) {\n    fig.image_mode = msg['mode'];\n}\n\nmpl.figure.prototype.updated_canvas_event = function() {\n    // Called whenever the canvas gets updated.\n    this.send_message(\"ack\", {});\n}\n\n// A function to construct a web socket function for onmessage handling.\n// Called in the figure constructor.\nmpl.figure.prototype._make_on_message_function = function(fig) {\n    return function socket_on_message(evt) {\n        if (evt.data instanceof Blob) {\n            /* FIXME: We get \"Resource interpreted as Image but\n             * transferred with MIME type text/plain:\" errors on\n             * Chrome.  But how to set the MIME type?  It doesn't seem\n             * to be part of the websocket stream */\n            evt.data.type = \"image/png\";\n\n            /* Free the memory for the previous frames */\n            if (fig.imageObj.src) {\n                (window.URL || window.webkitURL).revokeObjectURL(\n                    fig.imageObj.src);\n            }\n\n            fig.imageObj.src = (window.URL || window.webkitURL).createObjectURL(\n                evt.data);\n            fig.updated_canvas_event();\n            fig.waiting = false;\n            return;\n        }\n        else if (typeof evt.data === 'string' && evt.data.slice(0, 21) == \"data:image/png;base64\") {\n            fig.imageObj.src = evt.data;\n            fig.updated_canvas_event();\n            fig.waiting = false;\n            return;\n        }\n\n        var msg = JSON.parse(evt.data);\n        var msg_type = msg['type'];\n\n        // Call the  \"handle_{type}\" callback, which takes\n        // the figure and JSON message as its only arguments.\n        try {\n            var callback = fig[\"handle_\" + msg_type];\n        } catch (e) {\n            console.log(\"No handler for the '\" + msg_type + \"' message type: \", msg);\n            return;\n        }\n\n        if (callback) {\n            try {\n                // console.log(\"Handling '\" + msg_type + \"' message: \", msg);\n                callback(fig, msg);\n            } catch (e) {\n                console.log(\"Exception inside the 'handler_\" + msg_type + \"' callback:\", e, e.stack, msg);\n            }\n        }\n    };\n}\n\n// from http://stackoverflow.com/questions/1114465/getting-mouse-location-in-canvas\nmpl.findpos = function(e) {\n    //this section is from http://www.quirksmode.org/js/events_properties.html\n    var targ;\n    if (!e)\n        e = window.event;\n    if (e.target)\n        targ = e.target;\n    else if (e.srcElement)\n        targ = e.srcElement;\n    if (targ.nodeType == 3) // defeat Safari bug\n        targ = targ.parentNode;\n\n    // jQuery normalizes the pageX and pageY\n    // pageX,Y are the mouse positions relative to the document\n    // offset() returns the position of the element relative to the document\n    var x = e.pageX - $(targ).offset().left;\n    var y = e.pageY - $(targ).offset().top;\n\n    return {\"x\": x, \"y\": y};\n};\n\n/*\n * return a copy of an object with only non-object keys\n * we need this to avoid circular references\n * http://stackoverflow.com/a/24161582/3208463\n */\nfunction simpleKeys (original) {\n  return Object.keys(original).reduce(function (obj, key) {\n    if (typeof original[key] !== 'object')\n        obj[key] = original[key]\n    return obj;\n  }, {});\n}\n\nmpl.figure.prototype.mouse_event = function(event, name) {\n    var canvas_pos = mpl.findpos(event)\n\n    if (name === 'button_press')\n    {\n        this.canvas.focus();\n        this.canvas_div.focus();\n    }\n\n    var x = canvas_pos.x * mpl.ratio;\n    var y = canvas_pos.y * mpl.ratio;\n\n    this.send_message(name, {x: x, y: y, button: event.button,\n                             step: event.step,\n                             guiEvent: simpleKeys(event)});\n\n    /* This prevents the web browser from automatically changing to\n     * the text insertion cursor when the button is pressed.  We want\n     * to control all of the cursor setting manually through the\n     * 'cursor' event from matplotlib */\n    event.preventDefault();\n    return false;\n}\n\nmpl.figure.prototype._key_event_extra = function(event, name) {\n    // Handle any extra behaviour associated with a key event\n}\n\nmpl.figure.prototype.key_event = function(event, name) {\n\n    // Prevent repeat events\n    if (name == 'key_press')\n    {\n        if (event.which === this._key)\n            return;\n        else\n            this._key = event.which;\n    }\n    if (name == 'key_release')\n        this._key = null;\n\n    var value = '';\n    if (event.ctrlKey && event.which != 17)\n        value += \"ctrl+\";\n    if (event.altKey && event.which != 18)\n        value += \"alt+\";\n    if (event.shiftKey && event.which != 16)\n        value += \"shift+\";\n\n    value += 'k';\n    value += event.which.toString();\n\n    this._key_event_extra(event, name);\n\n    this.send_message(name, {key: value,\n                             guiEvent: simpleKeys(event)});\n    return false;\n}\n\nmpl.figure.prototype.toolbar_button_onclick = function(name) {\n    if (name == 'download') {\n        this.handle_save(this, null);\n    } else {\n        this.send_message(\"toolbar_button\", {name: name});\n    }\n};\n\nmpl.figure.prototype.toolbar_button_onmouseover = function(tooltip) {\n    this.message.textContent = tooltip;\n};\nmpl.toolbar_items = [[\"Home\", \"Reset original view\", \"fa fa-home icon-home\", \"home\"], [\"Back\", \"Back to previous view\", \"fa fa-arrow-left icon-arrow-left\", \"back\"], [\"Forward\", \"Forward to next view\", \"fa fa-arrow-right icon-arrow-right\", \"forward\"], [\"\", \"\", \"\", \"\"], [\"Pan\", \"Pan axes with left mouse, zoom with right\", \"fa fa-arrows icon-move\", \"pan\"], [\"Zoom\", \"Zoom to rectangle\", \"fa fa-square-o icon-check-empty\", \"zoom\"], [\"\", \"\", \"\", \"\"], [\"Download\", \"Download plot\", \"fa fa-floppy-o icon-save\", \"download\"]];\n\nmpl.extensions = [\"eps\", \"pdf\", \"png\", \"ps\", \"raw\", \"svg\"];\n\nmpl.default_extension = \"png\";var comm_websocket_adapter = function(comm) {\n    // Create a \"websocket\"-like object which calls the given IPython comm\n    // object with the appropriate methods. Currently this is a non binary\n    // socket, so there is still some room for performance tuning.\n    var ws = {};\n\n    ws.close = function() {\n        comm.close()\n    };\n    ws.send = function(m) {\n        //console.log('sending', m);\n        comm.send(m);\n    };\n    // Register the callback with on_msg.\n    comm.on_msg(function(msg) {\n        //console.log('receiving', msg['content']['data'], msg);\n        // Pass the mpl event to the overridden (by mpl) onmessage function.\n        ws.onmessage(msg['content']['data'])\n    });\n    return ws;\n}\n\nmpl.mpl_figure_comm = function(comm, msg) {\n    // This is the function which gets called when the mpl process\n    // starts-up an IPython Comm through the \"matplotlib\" channel.\n\n    var id = msg.content.data.id;\n    // Get hold of the div created by the display call when the Comm\n    // socket was opened in Python.\n    var element = $(\"#\" + id);\n    var ws_proxy = comm_websocket_adapter(comm)\n\n    function ondownload(figure, format) {\n        window.open(figure.imageObj.src);\n    }\n\n    var fig = new mpl.figure(id, ws_proxy,\n                           ondownload,\n                           element.get(0));\n\n    // Call onopen now - mpl needs it, as it is assuming we've passed it a real\n    // web socket which is closed, not our websocket->open comm proxy.\n    ws_proxy.onopen();\n\n    fig.parent_element = element.get(0);\n    fig.cell_info = mpl.find_output_cell(\"<div id='\" + id + \"'></div>\");\n    if (!fig.cell_info) {\n        console.error(\"Failed to find cell for figure\", id, fig);\n        return;\n    }\n\n    var output_index = fig.cell_info[2]\n    var cell = fig.cell_info[0];\n\n};\n\nmpl.figure.prototype.handle_close = function(fig, msg) {\n    var width = fig.canvas.width/mpl.ratio\n    fig.root.unbind('remove')\n\n    // Update the output cell to use the data from the current canvas.\n    fig.push_to_output();\n    var dataURL = fig.canvas.toDataURL();\n    // Re-enable the keyboard manager in IPython - without this line, in FF,\n    // the notebook keyboard shortcuts fail.\n    IPython.keyboard_manager.enable()\n    $(fig.parent_element).html('<img src=\"' + dataURL + '\" width=\"' + width + '\">');\n    fig.close_ws(fig, msg);\n}\n\nmpl.figure.prototype.close_ws = function(fig, msg){\n    fig.send_message('closing', msg);\n    // fig.ws.close()\n}\n\nmpl.figure.prototype.push_to_output = function(remove_interactive) {\n    // Turn the data on the canvas into data in the output cell.\n    var width = this.canvas.width/mpl.ratio\n    var dataURL = this.canvas.toDataURL();\n    this.cell_info[1]['text/html'] = '<img src=\"' + dataURL + '\" width=\"' + width + '\">';\n}\n\nmpl.figure.prototype.updated_canvas_event = function() {\n    // Tell IPython that the notebook contents must change.\n    IPython.notebook.set_dirty(true);\n    this.send_message(\"ack\", {});\n    var fig = this;\n    // Wait a second, then push the new image to the DOM so\n    // that it is saved nicely (might be nice to debounce this).\n    setTimeout(function () { fig.push_to_output() }, 1000);\n}\n\nmpl.figure.prototype._init_toolbar = function() {\n    var fig = this;\n\n    var nav_element = $('<div/>');\n    nav_element.attr('style', 'width: 100%');\n    this.root.append(nav_element);\n\n    // Define a callback function for later on.\n    function toolbar_event(event) {\n        return fig.toolbar_button_onclick(event['data']);\n    }\n    function toolbar_mouse_event(event) {\n        return fig.toolbar_button_onmouseover(event['data']);\n    }\n\n    for(var toolbar_ind in mpl.toolbar_items){\n        var name = mpl.toolbar_items[toolbar_ind][0];\n        var tooltip = mpl.toolbar_items[toolbar_ind][1];\n        var image = mpl.toolbar_items[toolbar_ind][2];\n        var method_name = mpl.toolbar_items[toolbar_ind][3];\n\n        if (!name) { continue; };\n\n        var button = $('<button class=\"btn btn-default\" href=\"#\" title=\"' + name + '\"><i class=\"fa ' + image + ' fa-lg\"></i></button>');\n        button.click(method_name, toolbar_event);\n        button.mouseover(tooltip, toolbar_mouse_event);\n        nav_element.append(button);\n    }\n\n    // Add the status bar.\n    var status_bar = $('<span class=\"mpl-message\" style=\"text-align:right; float: right;\"/>');\n    nav_element.append(status_bar);\n    this.message = status_bar[0];\n\n    // Add the close button to the window.\n    var buttongrp = $('<div class=\"btn-group inline pull-right\"></div>');\n    var button = $('<button class=\"btn btn-mini btn-primary\" href=\"#\" title=\"Stop Interaction\"><i class=\"fa fa-power-off icon-remove icon-large\"></i></button>');\n    button.click(function (evt) { fig.handle_close(fig, {}); } );\n    button.mouseover('Stop Interaction', toolbar_mouse_event);\n    buttongrp.append(button);\n    var titlebar = this.root.find($('.ui-dialog-titlebar'));\n    titlebar.prepend(buttongrp);\n}\n\nmpl.figure.prototype._root_extra_style = function(el){\n    var fig = this\n    el.on(\"remove\", function(){\n\tfig.close_ws(fig, {});\n    });\n}\n\nmpl.figure.prototype._canvas_extra_style = function(el){\n    // this is important to make the div 'focusable\n    el.attr('tabindex', 0)\n    // reach out to IPython and tell the keyboard manager to turn it's self\n    // off when our div gets focus\n\n    // location in version 3\n    if (IPython.notebook.keyboard_manager) {\n        IPython.notebook.keyboard_manager.register_events(el);\n    }\n    else {\n        // location in version 2\n        IPython.keyboard_manager.register_events(el);\n    }\n\n}\n\nmpl.figure.prototype._key_event_extra = function(event, name) {\n    var manager = IPython.notebook.keyboard_manager;\n    if (!manager)\n        manager = IPython.keyboard_manager;\n\n    // Check for shift+enter\n    if (event.shiftKey && event.which == 13) {\n        this.canvas_div.blur();\n        event.shiftKey = false;\n        // Send a \"J\" for go to next cell\n        event.which = 74;\n        event.keyCode = 74;\n        manager.command_mode();\n        manager.handle_keydown(event);\n    }\n}\n\nmpl.figure.prototype.handle_save = function(fig, msg) {\n    fig.ondownload(fig, null);\n}\n\n\nmpl.find_output_cell = function(html_output) {\n    // Return the cell and output element which can be found *uniquely* in the notebook.\n    // Note - this is a bit hacky, but it is done because the \"notebook_saving.Notebook\"\n    // IPython event is triggered only after the cells have been serialised, which for\n    // our purposes (turning an active figure into a static one), is too late.\n    var cells = IPython.notebook.get_cells();\n    var ncells = cells.length;\n    for (var i=0; i<ncells; i++) {\n        var cell = cells[i];\n        if (cell.cell_type === 'code'){\n            for (var j=0; j<cell.output_area.outputs.length; j++) {\n                var data = cell.output_area.outputs[j];\n                if (data.data) {\n                    // IPython >= 3 moved mimebundle to data attribute of output\n                    data = data.data;\n                }\n                if (data['text/html'] == html_output) {\n                    return [cell, data, j];\n                }\n            }\n        }\n    }\n}\n\n// Register the function which deals with the matplotlib target/channel.\n// The kernel may be null if the page has been refreshed.\nif (IPython.notebook.kernel != null) {\n    IPython.notebook.kernel.comm_manager.register_target('matplotlib', mpl.mpl_figure_comm);\n}\n"
     },
     "metadata": {},
     "output_type": "display_data"
    },
    {
     "data": {
      "text/plain": "<IPython.core.display.HTML object>",
      "text/html": "<div id='456be7e8-aaa2-45a4-bd1c-56bb120bf930'></div>"
     },
     "metadata": {},
     "output_type": "display_data"
    },
    {
     "data": {
      "text/plain": "<matplotlib.legend.Legend at 0x1abbc68fa88>"
     },
     "metadata": {},
     "output_type": "execute_result",
     "execution_count": 18
    }
   ],
   "source": [
    "# Graph it!\n",
    "width = 0.7\n",
    "\n",
    "raw_counts = counter_pos\n",
    "percentages = {pos: wc / total_words for pos, wc in raw_counts.items()}\n",
    "norm_counts = {pos: pct / total_words for pos, pct in percentages.items()}\n",
    "\n",
    "p1 = plt.bar(width=width, x=1, height=norm_counts['NOUN'])\n",
    "p2 = plt.bar(width=width, x=1, height=norm_counts['VERB'], bottom=norm_counts['NOUN'])\n",
    "p3 = plt.bar(width=width, x=1, height=norm_counts['ADV'], bottom=norm_counts['NOUN'] + norm_counts['VERB'])\n",
    "p4 = plt.bar(width=width, x=1, height=norm_counts['ADJ'], bottom=norm_counts['NOUN'] + norm_counts['VERB'] + norm_counts['ADV'])\n",
    "\n",
    "plt.ylabel('Normed Counts Per 1000 Words')\n",
    "plt.title('2007 Text Messages: Frequency of Lexical Word Classes')\n",
    "plt.tick_params(\n",
    "    axis='x',          # changes apply to the x-axis\n",
    "    which='both',      # both major and minor ticks are affected\n",
    "    bottom=False,      # ticks along the bottom edge are off\n",
    "    top=False,         # ticks along the top edge are off\n",
    "    labelbottom=False) # labels along the bottom edge are off\n",
    "\n",
    "max_y_value = total_words * 1000\n",
    "plt.legend(loc='center left', bbox_to_anchor=(1, 0.5), handles=(p1[0], p2[0], p3[0], p4[0]), labels=('Nouns', 'Verbs', 'Adverbs', 'Adjectives'))\n",
    "#plt.autoscale(False)"
   ]
  },
  {
   "cell_type": "markdown",
   "metadata": {},
   "source": [
    "### 6.  Summary\n",
    "Summary Write-up"
   ]
  },
  {
   "cell_type": "markdown",
   "metadata": {},
   "source": [
    "##### Footer: used to force updates\n",
    "Last Updated: 11/12/2019 1:27 PM  "
   ]
  }
 ],
 "metadata": {
  "kernelspec": {
   "display_name": "Python 3",
   "language": "python",
   "name": "python3"
  },
  "language_info": {
   "codemirror_mode": {
    "name": "ipython",
    "version": 3
   },
   "file_extension": ".py",
   "mimetype": "text/x-python",
   "name": "python",
   "nbconvert_exporter": "python",
   "pygments_lexer": "ipython3",
   "version": "3.7.5"
  },
  "pycharm": {
   "stem_cell": {
    "cell_type": "raw",
    "source": [],
    "metadata": {
     "collapsed": false
    }
   }
  }
 },
 "nbformat": 4,
 "nbformat_minor": 1
}