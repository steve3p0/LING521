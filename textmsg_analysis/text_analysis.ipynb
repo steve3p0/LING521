{
 "cells": [
  {
   "cell_type": "markdown",
   "metadata": {
    "pycharm": {
     "name": "#%% md\n"
    }
   },
   "source": [
    "## LING 521: Applied English Grammar\n",
    "### Text Analysis Script #1 \n",
    "TODO: write up an intro\n",
    "\n",
    "### Part 1. Load Dependencies\n",
    "Import the required packages (install them if you haven't already)"
   ]
  },
  {
   "cell_type": "code",
   "execution_count": 1,
   "metadata": {
    "pycharm": {
     "is_executing": false,
     "name": "#%%\n"
    }
   },
   "outputs": [],
   "source": [
    "import sys\n",
    "import nltk\n",
    "import numpy as np\n",
    "import pandas as pd\n",
    "import matplotlib\n",
    "import matplotlib.pyplot as plt\n",
    "from collections import defaultdict\n",
    "from IPython.display import display, HTML\n",
    "\n",
    "plt.rcdefaults()\n",
    "#%matplotlib inline\n",
    "%matplotlib notebook"
   ]
  },
  {
   "cell_type": "markdown",
   "metadata": {},
   "source": [
    "Display my Python Package Library versions and verify software dependencies loaded:"
   ]
  },
  {
   "cell_type": "code",
   "execution_count": 2,
   "metadata": {
    "pycharm": {
     "is_executing": false,
     "name": "#%%\n"
    }
   },
   "outputs": [
    {
     "name": "stdout",
     "text": [
      "sys.version: 3.7.5 (tags/v3.7.5:5c02a39a0b, Oct 15 2019, 00:11:34) [MSC v.1916 64 bit (AMD64)]\nNLTK: 3.4.5\nNumpy: 1.17.3\nPandas: 0.25.3\nmatplotlib: 3.1.1\n"
     ],
     "output_type": "stream"
    }
   ],
   "source": [
    "print(f\"sys.version: {sys.version}\")\n",
    "print(f\"NLTK: {nltk.__version__}\")\n",
    "print(f\"Numpy: {np.__version__}\")\n",
    "print(f\"Pandas: {pd.__version__}\")\n",
    "print(f\"matplotlib: {matplotlib.__version__}\")\n",
    "\n",
    "#print(f\"Scipy: {sp.__version__}\")\n",
    "#print(f\"nose: {nose.__version__}\")"
   ]
  },
  {
   "cell_type": "markdown",
   "metadata": {},
   "source": [
    "### 2. Load Natural Language Processing Tool Kit (NLTK) Package\n",
    "Load the following Part-of-Speech (POS) Taggers from the Natural Language Toolkit Library:"
   ]
  },
  {
   "cell_type": "code",
   "execution_count": 3,
   "metadata": {
    "pycharm": {
     "is_executing": false,
     "name": "#%%\n"
    }
   },
   "outputs": [
    {
     "name": "stderr",
     "text": [
      "[nltk_data] Downloading package averaged_perceptron_tagger to\n[nltk_data]     C:\\Users\\steve\\AppData\\Roaming\\nltk_data...\n[nltk_data]   Package averaged_perceptron_tagger is already up-to-\n[nltk_data]       date!\n[nltk_data] Downloading package universal_tagset to\n[nltk_data]     C:\\Users\\steve\\AppData\\Roaming\\nltk_data...\n[nltk_data]   Package universal_tagset is already up-to-date!\n[nltk_data] Downloading package tagsets to\n[nltk_data]     C:\\Users\\steve\\AppData\\Roaming\\nltk_data...\n[nltk_data]   Package tagsets is already up-to-date!\n"
     ],
     "output_type": "stream"
    },
    {
     "data": {
      "text/plain": "True"
     },
     "metadata": {},
     "output_type": "execute_result",
     "execution_count": 3
    }
   ],
   "source": [
    "nltk.download('averaged_perceptron_tagger')\n",
    "nltk.download('universal_tagset')\n",
    "nltk.download('tagsets')\n",
    "# Show definition of tags\n",
    "# tagset_upenn = nltk.help.upenn_tagset()"
   ]
  },
  {
   "cell_type": "markdown",
   "source": [
    "<b>NOTE ON FUNCTION WORDS:</b><br>\n",
    "With respect to Function Words, we explored using the [NLTK Stopword corpus](https://www.nltk.org/book/ch02.html#stopwords_index_term)\n",
    "when it was revealed to us that the NLTK's Stopword corpus, despite varying by domain, is basically \n",
    "[a manually currated 'general purpose' list of function words](https://stackoverflow.com/questions/41811790/function-vs-content-words#41813460)\n",
    " freely available to use in our tagger.\n",
    "\n",
    "Ultimately we did not use it.  Instead we simply combined the following POS Tags in the NLTK 'Average Perceptron Tagger' \n",
    "into our own Function Word POS Tag and named it 'FUNCTOR':\n",
    " \n",
    "| NLTK POS Tag | NLTK POS Term  | Longman POS  | Function Word Tag (New) |\n",
    "| :-----------:|:--------------:| :-----------:|:-----------:|\n",
    "| ADP          | Adpositions    | Prepositions | FUNCTOR     |\n",
    "| PRON         | Pronouns       | Pronouns     | FUNCTOR     |\n",
    "| DET          | Determiners    | Determiners  | FUNCTOR     |\n",
    "| CONJ         | Conjunctions   | Coordinators / </br> Subordinators| FUNCTOR     |\n",
    "\n",
    "\n",
    "https://stackoverflow.com/questions/15388831/what-are-all-possible-pos-tags-of-nltk\n",
    "\n",
    "- X Determiners\n",
    "- X Pronouns\n",
    "- Auxiliary Verbs: https://www.wikiwand.com/en/Auxiliary_verb\n",
    "- X Prepositions\n",
    "- Adverbial Particles\n",
    "Noun\n",
    "adverbial particle (plural adverbial particles)\n",
    "\n",
    "(linguistics) The adverbial component of a phrasal verb; a word, typically a short one, which functions as an adverb accompanying and qualifying the verb component of a phrasal verb.\n",
    "In the phrasal verbs 'set up', 'throw away', 'shut down', 'carry out' and 'take over', the words 'up', 'away', 'down', 'out' and 'over' are the adverbial particles.\n",
    "The sentence 'He turns on everyone he meets' has very different meanings depending on whether the word 'on' is parsed as a preposition or as an adverbial particle.\n",
    "\n",
    "X Coordinators\n",
    "X Subordinators\n",
    "\n",
    "- Wh-words\n",
    "- Single-word classes (page 33, section 2.5.2 Single-word classes\n",
    "- Numerals\n",
    "- \n",
    "\n",
    "\n",
    "\n",
    " \n",
    "from nltk.corpus import stopwords\n",
    "nltk.download('stopwords')\n",
    "stops = set(stopwords.words(\"english\"))"
   ],
   "metadata": {
    "collapsed": false
   }
  },
  {
   "cell_type": "markdown",
   "metadata": {},
   "source": [
    "### 3. Load Corpora:\n",
    "\n",
    "##### Insert Words\n",
    "\n",
    "We did not make an exhastive list of insert words.  There are methods to create "
   ]
  },
  {
   "cell_type": "code",
   "execution_count": 4,
   "metadata": {
    "pycharm": {
     "is_executing": false,
     "name": "#%%\n"
    }
   },
   "outputs": [],
   "source": [
    "insert_words = ('yeah', 'Ok', 'ahh', 'yeah', 'bye')\n",
    "\n",
    "messages = ['Gym?',\n",
    "            'yeah be there in about a half',\n",
    "            'Ok see you when you get here!',\n",
    "            'Seconds away',\n",
    "            'Meet me between smith and cramer asap',\n",
    "            'I got you and Taylor tix in pit section.',\n",
    "            'Get some milk please',\n",
    "            'Chk email',\n",
    "            'Made it',\n",
    "            'Do u know where u saved that movie on my compute',\n",
    "            'Im meeting some dude from the internet for happy hour ahh!',\n",
    "            'Wed is dinner for renetta call us soon',\n",
    "            'where r u???',\n",
    "            'pinball']"
   ]
  },
  {
   "cell_type": "markdown",
   "metadata": {},
   "source": [
    "### 4. Tag POS in 2007 Text Messages:\n",
    "Iterate thru each text message in our 2007 Text Message Corpus and tag the PART-OF-SPEECH of each word.\n",
    "\n",
    "<b>NOTE:</b> We could have written this code to simply get the counts on the whole corpus,\n",
    "but for this assignment, message level analysis made it easier to confirm with manual counts.\n",
    "\n",
    "This is how the tagset would look like if we simply used the upenn tagset:<br>\n",
    "Counter({'NOUN': 29, 'VERB': 12, 'ADP': 9, 'ADV': 8, 'PRON': 8, '.': 7, 'DET': 4, 'ADJ': 3, 'CONJ': 2})\n",
    "\n",
    "However, in order to satisfy the requirements, we need to modify our tagset as follows:\n",
    "1. Inserts: Check if a word is in our inserts set\n",
    "2. Function Words: Combine ADP, PRON, DET, CONJ into FUNCTOR\n",
    "3. Remove Punctuation"
   ]
  },
  {
   "cell_type": "code",
   "execution_count": 5,
   "metadata": {
    "pycharm": {
     "is_executing": false,
     "name": "#%%\n"
    }
   },
   "outputs": [
    {
     "name": "stdout",
     "text": [
      "\nRaw Message: Gym?\nWords with POS Tags: [('Gym', 'NOUN'), ('?', '.')]\n\nRaw Message: yeah be there in about a half\nWords with POS Tags: [('yeah', 'ADV'), ('be', 'VERB'), ('there', 'ADV'), ('in', 'ADP'), ('about', 'ADP'), ('a', 'DET'), ('half', 'NOUN')]\n\nRaw Message: Ok see you when you get here!\nWords with POS Tags: [('Ok', 'NOUN'), ('see', 'VERB'), ('you', 'PRON'), ('when', 'ADV'), ('you', 'PRON'), ('get', 'VERB'), ('here', 'ADV'), ('!', '.')]\n\nRaw Message: Seconds away\nWords with POS Tags: [('Seconds', 'VERB'), ('away', 'ADV')]\n\nRaw Message: Meet me between smith and cramer asap\nWords with POS Tags: [('Meet', 'VERB'), ('me', 'PRON'), ('between', 'ADP'), ('smith', 'NOUN'), ('and', 'CONJ'), ('cramer', 'NOUN'), ('asap', 'NOUN')]\n\nRaw Message: I got you and Taylor tix in pit section.\nWords with POS Tags: [('I', 'PRON'), ('got', 'VERB'), ('you', 'PRON'), ('and', 'CONJ'), ('Taylor', 'NOUN'), ('tix', 'NOUN'), ('in', 'ADP'), ('pit', 'ADJ'), ('section', 'NOUN'), ('.', '.')]\n\nRaw Message: Get some milk please\nWords with POS Tags: [('Get', 'VERB'), ('some', 'DET'), ('milk', 'NOUN'), ('please', 'NOUN')]\n\nRaw Message: Chk email\nWords with POS Tags: [('Chk', 'NOUN'), ('email', 'NOUN')]\n\nRaw Message: Made it\nWords with POS Tags: [('Made', 'VERB'), ('it', 'PRON')]\n\nRaw Message: Do u know where u saved that movie on my compute\nWords with POS Tags: [('Do', 'VERB'), ('u', 'NOUN'), ('know', 'VERB'), ('where', 'ADV'), ('u', 'ADJ'), ('saved', 'VERB'), ('that', 'ADP'), ('movie', 'NOUN'), ('on', 'ADP'), ('my', 'PRON'), ('compute', 'NOUN')]\n\nRaw Message: Im meeting some dude from the internet for happy hour ahh!\nWords with POS Tags: [('Im', 'NOUN'), ('meeting', 'NOUN'), ('some', 'DET'), ('dude', 'NOUN'), ('from', 'ADP'), ('the', 'DET'), ('internet', 'NOUN'), ('for', 'ADP'), ('happy', 'ADJ'), ('hour', 'NOUN'), ('ahh', 'NOUN'), ('!', '.')]\n\nRaw Message: Wed is dinner for renetta call us soon\nWords with POS Tags: [('Wed', 'NOUN'), ('is', 'VERB'), ('dinner', 'NOUN'), ('for', 'ADP'), ('renetta', 'NOUN'), ('call', 'NOUN'), ('us', 'PRON'), ('soon', 'ADV')]\n\nRaw Message: where r u???\nWords with POS Tags: [('where', 'ADV'), ('r', 'NOUN'), ('u', 'NOUN'), ('?', '.'), ('?', '.'), ('?', '.')]\n\nRaw Message: pinball\nWords with POS Tags: [('pinball', 'NOUN')]\n"
     ],
     "output_type": "stream"
    }
   ],
   "source": [
    "counter_list = []\n",
    "words = defaultdict(list)\n",
    "\n",
    "for msg in messages:\n",
    "    tokens = nltk.word_tokenize(msg)\n",
    "    word_tag_pairs = nltk.pos_tag(tokens, tagset='universal')\n",
    "    print(f\"\\nRaw Message: {msg}\")\n",
    "    print(f\"Words with POS Tags: {word_tag_pairs}\")\n",
    "\n",
    "    # Build a dictionary of words, grouped by POS\n",
    "    for w, tag in word_tag_pairs:\n",
    "        if w in insert_words:\n",
    "            tag = \"Inserts\"\n",
    "            words[tag].append(w)\n",
    "        elif tag in ('PRON', 'DET', 'ADP', 'CONJ'):\n",
    "            tag = \"FUNCTOR\"\n",
    "            words[tag].append(w)\n",
    "        elif tag != '.':\n",
    "            words[tag].append(w)\n"
   ]
  },
  {
   "cell_type": "markdown",
   "metadata": {},
   "source": [
    "#### Sum of totals:"
   ]
  },
  {
   "cell_type": "code",
   "execution_count": 6,
   "metadata": {
    "pycharm": {
     "is_executing": false,
     "name": "#%%\n"
    }
   },
   "outputs": [
    {
     "name": "stdout",
     "text": [
      "\nPOS Counts: {'NOUN': 27, 'Inserts': 3, 'VERB': 12, 'ADV': 7, 'FUNCTOR': 23, 'ADJ': 3}\n\nTotal Words: 75\n"
     ],
     "output_type": "stream"
    }
   ],
   "source": [
    "counter_pos = {k: len(v) for k,v in words.items()}\n",
    "total_words = sum(counter_pos.values())\n",
    "\n",
    "print(f\"\\nPOS Counts: {counter_pos}\")\n",
    "print(f\"\\nTotal Words: {total_words}\")"
   ]
  },
  {
   "cell_type": "markdown",
   "source": [
    "#### Summary: Words grouped by POS:"
   ],
   "metadata": {
    "collapsed": false
   }
  },
  {
   "cell_type": "code",
   "execution_count": 7,
   "outputs": [
    {
     "data": {
      "text/plain": "<IPython.core.display.HTML object>",
      "text/html": "<style  type=\"text/css\" >\n    #T_ff0a05fe_06e3_11ea_a4b3_70bc106da121 th {\n          text-align: center;\n    }    #T_ff0a05fe_06e3_11ea_a4b3_70bc106da121 th {\n          white-space: nowrap;\n    }    #T_ff0a05fe_06e3_11ea_a4b3_70bc106da121 td {\n          text-align: left;\n    }    #T_ff0a05fe_06e3_11ea_a4b3_70bc106da121row0_col0 {\n            white-space:  nowrap;\n        }    #T_ff0a05fe_06e3_11ea_a4b3_70bc106da121row1_col0 {\n            white-space:  nowrap;\n        }    #T_ff0a05fe_06e3_11ea_a4b3_70bc106da121row2_col0 {\n            white-space:  nowrap;\n        }    #T_ff0a05fe_06e3_11ea_a4b3_70bc106da121row3_col0 {\n            white-space:  nowrap;\n        }    #T_ff0a05fe_06e3_11ea_a4b3_70bc106da121row4_col0 {\n            white-space:  nowrap;\n        }    #T_ff0a05fe_06e3_11ea_a4b3_70bc106da121row5_col0 {\n            white-space:  nowrap;\n        }</style><table id=\"T_ff0a05fe_06e3_11ea_a4b3_70bc106da121\" ><thead>    <tr>        <th class=\"col_heading level0 col0\" >Word Class</th>        <th class=\"col_heading level0 col1\" >Words</th>    </tr></thead><tbody>\n                <tr>\n                                <td id=\"T_ff0a05fe_06e3_11ea_a4b3_70bc106da121row0_col0\" class=\"data row0 col0\" >Nouns</td>\n                        <td id=\"T_ff0a05fe_06e3_11ea_a4b3_70bc106da121row0_col1\" class=\"data row0 col1\" >Gym, half, smith, cramer, asap, Taylor, tix, section, milk, please, Chk, email, u, movie, compute, Im, meeting, dude, internet, hour, Wed, dinner, renetta, call, r, u, pinball</td>\n            </tr>\n            <tr>\n                                <td id=\"T_ff0a05fe_06e3_11ea_a4b3_70bc106da121row1_col0\" class=\"data row1 col0\" >Verbs</td>\n                        <td id=\"T_ff0a05fe_06e3_11ea_a4b3_70bc106da121row1_col1\" class=\"data row1 col1\" >be, see, get, Seconds, Meet, got, Get, Made, Do, know, saved, is</td>\n            </tr>\n            <tr>\n                                <td id=\"T_ff0a05fe_06e3_11ea_a4b3_70bc106da121row2_col0\" class=\"data row2 col0\" >Adjectives</td>\n                        <td id=\"T_ff0a05fe_06e3_11ea_a4b3_70bc106da121row2_col1\" class=\"data row2 col1\" >pit, u, happy</td>\n            </tr>\n            <tr>\n                                <td id=\"T_ff0a05fe_06e3_11ea_a4b3_70bc106da121row3_col0\" class=\"data row3 col0\" >Adverbs</td>\n                        <td id=\"T_ff0a05fe_06e3_11ea_a4b3_70bc106da121row3_col1\" class=\"data row3 col1\" >there, when, here, away, where, soon, where</td>\n            </tr>\n            <tr>\n                                <td id=\"T_ff0a05fe_06e3_11ea_a4b3_70bc106da121row4_col0\" class=\"data row4 col0\" >Function Words</td>\n                        <td id=\"T_ff0a05fe_06e3_11ea_a4b3_70bc106da121row4_col1\" class=\"data row4 col1\" >in, about, a, you, you, me, between, and, I, you, and, in, some, it, that, on, my, some, from, the, for, for, us</td>\n            </tr>\n            <tr>\n                                <td id=\"T_ff0a05fe_06e3_11ea_a4b3_70bc106da121row5_col0\" class=\"data row5 col0\" >Inserts</td>\n                        <td id=\"T_ff0a05fe_06e3_11ea_a4b3_70bc106da121row5_col1\" class=\"data row5 col1\" >yeah, Ok, ahh</td>\n            </tr>\n    </tbody></table>"
     },
     "metadata": {},
     "output_type": "display_data"
    }
   ],
   "source": [
    "row_labels = ['Nouns', 'Verbs', 'Adjectives', 'Adverbs', 'Function Words', 'Inserts']\n",
    "words_by_pos = [ ', '.join(words['NOUN']), ', '.join(words['VERB']), ', '.join(words['ADJ']),   \n",
    "                 ', '.join(words['ADV']), ', '.join(words['FUNCTOR']), ', '.join(words['Inserts']) ]   \n",
    "data = {'Word Class': row_labels,\n",
    "        'Words': words_by_pos}\n",
    "df = pd.DataFrame(data, columns=['Word Class', 'Words'])\n",
    "\n",
    "# Set table styles\n",
    "styles = [ dict(selector=\"th\", props=[('text-align', 'center')]),\n",
    "           dict(selector=\"th\", props=[('white-space', 'nowrap')]),\n",
    "           dict(selector=\"td\", props=[('text-align', 'left')]) ]\n",
    "styled_df = (df.style\n",
    "             .set_properties(subset=df.columns[0],  **{'white-space':'nowrap'})\n",
    "             .set_table_styles(styles))\n",
    "\n",
    "html = styled_df.hide_index().render()\n",
    "display(HTML(html))"
   ],
   "metadata": {
    "collapsed": false,
    "pycharm": {
     "name": "#%%\n",
     "is_executing": false
    }
   }
  },
  {
   "cell_type": "markdown",
   "source": [
    "### 5.  Calculate Percentages and Normed Frequencies"
   ],
   "metadata": {
    "collapsed": false
   }
  },
  {
   "cell_type": "code",
   "execution_count": 8,
   "outputs": [
    {
     "data": {
      "text/plain": "<IPython.core.display.HTML object>",
      "text/html": "<style  type=\"text/css\" >\n    #T_ff11c890_06e3_11ea_bdcb_70bc106da121 th {\n          text-align: center;\n    }    #T_ff11c890_06e3_11ea_bdcb_70bc106da121row0_col0 {\n            text-align:  left;\n        }    #T_ff11c890_06e3_11ea_bdcb_70bc106da121row0_col1 {\n            text-align:  right;\n        }    #T_ff11c890_06e3_11ea_bdcb_70bc106da121row0_col2 {\n            text-align:  right;\n        }    #T_ff11c890_06e3_11ea_bdcb_70bc106da121row0_col3 {\n            text-align:  right;\n        }    #T_ff11c890_06e3_11ea_bdcb_70bc106da121row1_col0 {\n            text-align:  left;\n        }    #T_ff11c890_06e3_11ea_bdcb_70bc106da121row1_col1 {\n            text-align:  right;\n        }    #T_ff11c890_06e3_11ea_bdcb_70bc106da121row1_col2 {\n            text-align:  right;\n        }    #T_ff11c890_06e3_11ea_bdcb_70bc106da121row1_col3 {\n            text-align:  right;\n        }    #T_ff11c890_06e3_11ea_bdcb_70bc106da121row2_col0 {\n            text-align:  left;\n        }    #T_ff11c890_06e3_11ea_bdcb_70bc106da121row2_col1 {\n            text-align:  right;\n        }    #T_ff11c890_06e3_11ea_bdcb_70bc106da121row2_col2 {\n            text-align:  right;\n        }    #T_ff11c890_06e3_11ea_bdcb_70bc106da121row2_col3 {\n            text-align:  right;\n        }    #T_ff11c890_06e3_11ea_bdcb_70bc106da121row3_col0 {\n            text-align:  left;\n        }    #T_ff11c890_06e3_11ea_bdcb_70bc106da121row3_col1 {\n            text-align:  right;\n        }    #T_ff11c890_06e3_11ea_bdcb_70bc106da121row3_col2 {\n            text-align:  right;\n        }    #T_ff11c890_06e3_11ea_bdcb_70bc106da121row3_col3 {\n            text-align:  right;\n        }    #T_ff11c890_06e3_11ea_bdcb_70bc106da121row4_col0 {\n            text-align:  left;\n        }    #T_ff11c890_06e3_11ea_bdcb_70bc106da121row4_col1 {\n            text-align:  right;\n        }    #T_ff11c890_06e3_11ea_bdcb_70bc106da121row4_col2 {\n            text-align:  right;\n        }    #T_ff11c890_06e3_11ea_bdcb_70bc106da121row4_col3 {\n            text-align:  right;\n        }    #T_ff11c890_06e3_11ea_bdcb_70bc106da121row5_col0 {\n            text-align:  left;\n        }    #T_ff11c890_06e3_11ea_bdcb_70bc106da121row5_col1 {\n            text-align:  right;\n        }    #T_ff11c890_06e3_11ea_bdcb_70bc106da121row5_col2 {\n            text-align:  right;\n        }    #T_ff11c890_06e3_11ea_bdcb_70bc106da121row5_col3 {\n            text-align:  right;\n        }    #T_ff11c890_06e3_11ea_bdcb_70bc106da121row6_col0 {\n            text-align:  left;\n        }    #T_ff11c890_06e3_11ea_bdcb_70bc106da121row6_col1 {\n            text-align:  right;\n        }    #T_ff11c890_06e3_11ea_bdcb_70bc106da121row6_col2 {\n            text-align:  right;\n        }    #T_ff11c890_06e3_11ea_bdcb_70bc106da121row6_col3 {\n            text-align:  right;\n        }</style><table id=\"T_ff11c890_06e3_11ea_bdcb_70bc106da121\" ><thead>    <tr>        <th class=\"col_heading level0 col0\" >Word Class</th>        <th class=\"col_heading level0 col1\" >Raw Counts</th>        <th class=\"col_heading level0 col2\" >Percentages</th>        <th class=\"col_heading level0 col3\" >Normed per 1000</th>    </tr></thead><tbody>\n                <tr>\n                                <td id=\"T_ff11c890_06e3_11ea_bdcb_70bc106da121row0_col0\" class=\"data row0 col0\" >Nouns</td>\n                        <td id=\"T_ff11c890_06e3_11ea_bdcb_70bc106da121row0_col1\" class=\"data row0 col1\" >27</td>\n                        <td id=\"T_ff11c890_06e3_11ea_bdcb_70bc106da121row0_col2\" class=\"data row0 col2\" >36.0%</td>\n                        <td id=\"T_ff11c890_06e3_11ea_bdcb_70bc106da121row0_col3\" class=\"data row0 col3\" >360.0</td>\n            </tr>\n            <tr>\n                                <td id=\"T_ff11c890_06e3_11ea_bdcb_70bc106da121row1_col0\" class=\"data row1 col0\" >Verbs</td>\n                        <td id=\"T_ff11c890_06e3_11ea_bdcb_70bc106da121row1_col1\" class=\"data row1 col1\" >12</td>\n                        <td id=\"T_ff11c890_06e3_11ea_bdcb_70bc106da121row1_col2\" class=\"data row1 col2\" >16.0%</td>\n                        <td id=\"T_ff11c890_06e3_11ea_bdcb_70bc106da121row1_col3\" class=\"data row1 col3\" >160.0</td>\n            </tr>\n            <tr>\n                                <td id=\"T_ff11c890_06e3_11ea_bdcb_70bc106da121row2_col0\" class=\"data row2 col0\" >Adjectives</td>\n                        <td id=\"T_ff11c890_06e3_11ea_bdcb_70bc106da121row2_col1\" class=\"data row2 col1\" >3</td>\n                        <td id=\"T_ff11c890_06e3_11ea_bdcb_70bc106da121row2_col2\" class=\"data row2 col2\" >4.0%</td>\n                        <td id=\"T_ff11c890_06e3_11ea_bdcb_70bc106da121row2_col3\" class=\"data row2 col3\" >40.0</td>\n            </tr>\n            <tr>\n                                <td id=\"T_ff11c890_06e3_11ea_bdcb_70bc106da121row3_col0\" class=\"data row3 col0\" >Adverbs</td>\n                        <td id=\"T_ff11c890_06e3_11ea_bdcb_70bc106da121row3_col1\" class=\"data row3 col1\" >7</td>\n                        <td id=\"T_ff11c890_06e3_11ea_bdcb_70bc106da121row3_col2\" class=\"data row3 col2\" >9.3%</td>\n                        <td id=\"T_ff11c890_06e3_11ea_bdcb_70bc106da121row3_col3\" class=\"data row3 col3\" >93.3</td>\n            </tr>\n            <tr>\n                                <td id=\"T_ff11c890_06e3_11ea_bdcb_70bc106da121row4_col0\" class=\"data row4 col0\" >Function Words</td>\n                        <td id=\"T_ff11c890_06e3_11ea_bdcb_70bc106da121row4_col1\" class=\"data row4 col1\" >23</td>\n                        <td id=\"T_ff11c890_06e3_11ea_bdcb_70bc106da121row4_col2\" class=\"data row4 col2\" >30.7%</td>\n                        <td id=\"T_ff11c890_06e3_11ea_bdcb_70bc106da121row4_col3\" class=\"data row4 col3\" >306.7</td>\n            </tr>\n            <tr>\n                                <td id=\"T_ff11c890_06e3_11ea_bdcb_70bc106da121row5_col0\" class=\"data row5 col0\" >Inserts</td>\n                        <td id=\"T_ff11c890_06e3_11ea_bdcb_70bc106da121row5_col1\" class=\"data row5 col1\" >3</td>\n                        <td id=\"T_ff11c890_06e3_11ea_bdcb_70bc106da121row5_col2\" class=\"data row5 col2\" >4.0%</td>\n                        <td id=\"T_ff11c890_06e3_11ea_bdcb_70bc106da121row5_col3\" class=\"data row5 col3\" >40.0</td>\n            </tr>\n            <tr>\n                                <td id=\"T_ff11c890_06e3_11ea_bdcb_70bc106da121row6_col0\" class=\"data row6 col0\" >Total</td>\n                        <td id=\"T_ff11c890_06e3_11ea_bdcb_70bc106da121row6_col1\" class=\"data row6 col1\" >75</td>\n                        <td id=\"T_ff11c890_06e3_11ea_bdcb_70bc106da121row6_col2\" class=\"data row6 col2\" >100.0%</td>\n                        <td id=\"T_ff11c890_06e3_11ea_bdcb_70bc106da121row6_col3\" class=\"data row6 col3\" >1,000.0</td>\n            </tr>\n    </tbody></table>"
     },
     "metadata": {},
     "output_type": "display_data"
    }
   ],
   "source": [
    "# Gather Counts\n",
    "raw_counts = counter_pos\n",
    "percentages = {pos: wc / total_words for pos, wc in raw_counts.items()}\n",
    "norm_counts = {pos: wc / total_words * 1000 for pos, wc in raw_counts.items()}\n",
    "\n",
    "row_labels = ['Nouns', 'Verbs', 'Adjectives', 'Adverbs', 'Function Words', 'Inserts']\n",
    "raw_counts_list = [ counter_pos['NOUN'], counter_pos['VERB'], counter_pos['ADJ'], counter_pos['ADV'], \n",
    "                    counter_pos['FUNCTOR'], counter_pos['Inserts'], ]\n",
    "\n",
    "percentages_list = [ percentages['NOUN'], percentages['VERB'], percentages['ADJ'], percentages['ADV'], \n",
    "                     percentages['FUNCTOR'], percentages['Inserts'], ]\n",
    "\n",
    "norm_counts_list = [ norm_counts['NOUN'], norm_counts['VERB'], norm_counts['ADJ'], norm_counts['ADV'], \n",
    "                     norm_counts['FUNCTOR'], norm_counts['Inserts'], ]\n",
    "\n",
    "data = {'Word Class': row_labels,\n",
    "        'Raw Counts': raw_counts_list,\n",
    "        'Percentages':percentages_list,\n",
    "        'Normed per 1000': norm_counts_list }\n",
    "\n",
    "df = pd.DataFrame(data, columns=['Word Class', 'Raw Counts', 'Percentages', 'Normed per 1000'])\n",
    "df.loc[df.index.max()+1]=['Total']+df.sum().tolist()[1:]\n",
    "\n",
    "# Construct a mask of which columns are numeric\n",
    "numeric_col_mask = df.dtypes.apply(lambda d: issubclass(np.dtype(d).type, np.number))\n",
    "# Set table styles\n",
    "styles = [ dict(selector=\"th\", props=[('text-align', 'center')]) ]\n",
    "\n",
    "styled_df = (df.style\n",
    "                # Format the percentage and Normed per 1000 fields\n",
    "                .format({'Percentages': \"{:.1%}\",  'Normed per 1000': \"{:,.1f}\"})\n",
    "                # right-align the numeric columns and set their width\n",
    "                .set_properties(subset=df.columns[numeric_col_mask],  **{'text-align':'right'})\n",
    "                # left-align the non-numeric columns and set their width\n",
    "                .set_properties(subset=df.columns[~numeric_col_mask], **{'text-align':'left'})\n",
    "                # center the header\n",
    "                .set_table_styles(styles) \n",
    "            )\n",
    "\n",
    "html = styled_df.hide_index().render()\n",
    "display(HTML(html))"
   ],
   "metadata": {
    "collapsed": false,
    "pycharm": {
     "name": "#%%\n",
     "is_executing": false
    }
   }
  },
  {
   "cell_type": "markdown",
   "metadata": {},
   "source": [
    "### 5.  Plot Stacked Bar Chart\n",
    "Create a stacked bar graph displaying the raw counts, percentages, and normed frequencies per 1000 words for the lexical classes."
   ]
  },
  {
   "cell_type": "code",
   "execution_count": 9,
   "metadata": {
    "pycharm": {
     "is_executing": false,
     "name": "#%%\n"
    }
   },
   "outputs": [
    {
     "data": {
      "text/plain": "<matplotlib.legend.Legend at 0x16cac04fa88>"
     },
     "metadata": {},
     "output_type": "execute_result",
     "execution_count": 9
    },
    {
     "data": {
      "text/plain": "<Figure size 432x288 with 1 Axes>",
      "image/png": "[encoded data removed]"
     },
     "metadata": {
      "needs_background": "light"
     },
     "output_type": "display_data"
    }
   ],
   "source": [
    "# Graph it!\n",
    "width = 0.7\n",
    "\n",
    "raw_counts = counter_pos\n",
    "percentages = {pos: wc / total_words for pos, wc in raw_counts.items()}\n",
    "norm_counts = {pos: pct / total_words for pos, pct in percentages.items()}\n",
    "\n",
    "p1 = plt.bar(width=width, x=1, height=norm_counts['NOUN'])\n",
    "p2 = plt.bar(width=width, x=1, height=norm_counts['VERB'], bottom=norm_counts['NOUN'])\n",
    "p3 = plt.bar(width=width, x=1, height=norm_counts['ADV'], bottom=norm_counts['NOUN'] + norm_counts['VERB'])\n",
    "p4 = plt.bar(width=width, x=1, height=norm_counts['ADJ'], bottom=norm_counts['NOUN'] + norm_counts['VERB'] + norm_counts['ADV'])\n",
    "\n",
    "plt.ylabel('Normed Counts Per 1000 Words')\n",
    "plt.title('2007 Text Messages: Frequency of Lexical Word Classes')\n",
    "plt.tick_params(\n",
    "    axis='x',          # changes apply to the x-axis\n",
    "    which='both',      # both major and minor ticks are affected\n",
    "    bottom=False,      # ticks along the bottom edge are off\n",
    "    top=False,         # ticks along the top edge are off\n",
    "    labelbottom=False) # labels along the bottom edge are off\n",
    "\n",
    "max_y_value = total_words * 1000\n",
    "plt.legend(loc='center left', bbox_to_anchor=(1, 0.5), handles=(p1[0], p2[0], p3[0], p4[0]), labels=('Nouns', 'Verbs', 'Adverbs', 'Adjectives'))\n",
    "#plt.autoscale(False)"
   ]
  },
  {
   "cell_type": "markdown",
   "metadata": {},
   "source": [
    "### 6.  Summary\n",
    "Summary Write-up"
   ]
  },
  {
   "cell_type": "markdown",
   "metadata": {},
   "source": [
    "##### Footer: used to force updates\n",
    "Last Updated: 11/12/2019 1:27 PM  "
   ]
  }
 ],
 "metadata": {
  "kernelspec": {
   "display_name": "Python 3",
   "language": "python",
   "name": "python3"
  },
  "language_info": {
   "codemirror_mode": {
    "name": "ipython",
    "version": 3
   },
   "file_extension": ".py",
   "mimetype": "text/x-python",
   "name": "python",
   "nbconvert_exporter": "python",
   "pygments_lexer": "ipython3",
   "version": "3.7.5"
  },
  "pycharm": {
   "stem_cell": {
    "cell_type": "raw",
    "source": [],
    "metadata": {
     "collapsed": false
    }
   }
  }
 },
 "nbformat": 4,
 "nbformat_minor": 1
}